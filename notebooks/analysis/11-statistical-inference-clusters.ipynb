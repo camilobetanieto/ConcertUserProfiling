{
 "cells": [
  {
   "cell_type": "code",
   "execution_count": 5,
   "metadata": {},
   "outputs": [],
   "source": [
    "import pandas as pd\n",
    "import numpy as np\n",
    "from scipy import stats\n",
    "\n",
    "import os"
   ]
  },
  {
   "cell_type": "markdown",
   "metadata": {},
   "source": [
    "## Preliminaries"
   ]
  },
  {
   "cell_type": "markdown",
   "metadata": {},
   "source": [
    "Assigning the path to write the trajectories general measures with the clustering labels."
   ]
  },
  {
   "cell_type": "code",
   "execution_count": 2,
   "metadata": {},
   "outputs": [],
   "source": [
    "path_clustering_results_tables = r'..\\..\\Datasets\\Processed\\clustering_results'"
   ]
  },
  {
   "cell_type": "markdown",
   "metadata": {},
   "source": [
    "## Process for night 2"
   ]
  },
  {
   "cell_type": "markdown",
   "metadata": {},
   "source": [
    "### Reading the data"
   ]
  },
  {
   "cell_type": "code",
   "execution_count": 3,
   "metadata": {},
   "outputs": [],
   "source": [
    "traj_clustering_results_n2 = pd.read_csv(os.path.join(path_clustering_results_tables,f'traj_general_measures_labels_n2.csv'))"
   ]
  },
  {
   "cell_type": "markdown",
   "metadata": {},
   "source": [
    "## Exploratory attempt to check the difference of means or ranked distributions for the clusters"
   ]
  },
  {
   "cell_type": "code",
   "execution_count": 40,
   "metadata": {},
   "outputs": [],
   "source": [
    "def statistical_test(trajectory_general_measures_df, clusters_col, variable_analysis):\n",
    "    list_values_clusters = []\n",
    "    trajectory_general_grouped = trajectory_general_measures_df.groupby(clusters_col)\n",
    "    for cluster_label, group in trajectory_general_grouped:\n",
    "        # Example: Attribute values from three clusters\n",
    "        values_cluster = group[variable_analysis]\n",
    "        list_values_clusters.append(values_cluster)\n",
    "\n",
    "    # Perform tests\n",
    "    test_name = \"Kruskal-Wallis test\"\n",
    "    stat, p = stats.kruskal(*list_values_clusters)\n",
    "    print(f\"Test Used: {test_name}, Statistic: {stat}, P-value: {p}\")\n",
    "\n",
    "    test_name = \"ANOVA test\"\n",
    "    stat, p = stats.f_oneway(*list_values_clusters)\n",
    "    print(f\"Test Used: {test_name}, Statistic: {stat}, P-value: {p}\")\n",
    "        "
   ]
  },
  {
   "cell_type": "code",
   "execution_count": 42,
   "metadata": {},
   "outputs": [],
   "source": [
    "cols_interest = ['observations_user_night_original','timespan_festival_mins', \n",
    "                'average_cell_density',\n",
    "                'num_attended_events', \n",
    "                'distance_straight_line', 'radius_of_gyration',\n",
    "                'total_stops_duration_mins',\n",
    "                \n",
    "                # Durations by genre\n",
    "                'duration_electronic_accessible_share','duration_electronic_hypnotic_share', 'duration_other_genres_share',\n",
    "                'duration_no_event_share', \n",
    "                'avg_adj_score_electronic_accessible','avg_adj_score_electronic_hypnotic', 'avg_adj_score_other_genres',\n",
    "                \n",
    "                # Durations by location type\n",
    "                'duration_bar_restaurant_share', 'duration_other_share','duration_stage_share',\n",
    "                \n",
    "                # Durations by stage\n",
    "                'duration_SonarClub_share', 'duration_SonarPub_share', \n",
    "                'duration_SonarLab x Printworks_share', 'duration_SonarCar_share', \n",
    "                'duration_Restaurants_share', 'duration_Bumper cars_share',\n",
    "                'duration_Bar: Restaurants-Bumper cars_share', 'duration_Entrance/Cashless_share']"
   ]
  },
  {
   "cell_type": "code",
   "execution_count": 43,
   "metadata": {},
   "outputs": [
    {
     "name": "stdout",
     "output_type": "stream",
     "text": [
      "\n",
      "--------------------------------------------------\n",
      "observations_user_night_original:\n",
      "Test Used: Kruskal-Wallis test, Statistic: 365.92461010205244, P-value: 6.385712515042388e-78\n",
      "Test Used: ANOVA test, Statistic: 54.9030675670662, P-value: 1.4374363576586862e-43\n",
      "\n",
      "--------------------------------------------------\n",
      "timespan_festival_mins:\n",
      "Test Used: Kruskal-Wallis test, Statistic: 39.05556148633914, P-value: 6.784761405908305e-08\n",
      "Test Used: ANOVA test, Statistic: 10.799159249302207, P-value: 1.2062809999243275e-08\n",
      "\n",
      "--------------------------------------------------\n",
      "average_cell_density:\n",
      "Test Used: Kruskal-Wallis test, Statistic: 341.4445433342557, P-value: 1.2333493293173812e-72\n",
      "Test Used: ANOVA test, Statistic: 90.01221346954006, P-value: 1.985536489444623e-69\n",
      "\n",
      "--------------------------------------------------\n",
      "num_attended_events:\n",
      "Test Used: Kruskal-Wallis test, Statistic: 259.0277272764953, P-value: 7.387548385245171e-55\n",
      "Test Used: ANOVA test, Statistic: 69.48731399272897, P-value: 1.5957156997722062e-54\n",
      "\n",
      "--------------------------------------------------\n",
      "distance_straight_line:\n",
      "Test Used: Kruskal-Wallis test, Statistic: 465.6507008177614, P-value: 1.7952571458912834e-99\n",
      "Test Used: ANOVA test, Statistic: 105.39029231194343, P-value: 3.1904157161194985e-80\n",
      "\n",
      "--------------------------------------------------\n",
      "radius_of_gyration:\n",
      "Test Used: Kruskal-Wallis test, Statistic: 527.371815959541, P-value: 8.042591834112766e-113\n",
      "Test Used: ANOVA test, Statistic: 200.02276218803158, P-value: 1.576797824388242e-140\n",
      "\n",
      "--------------------------------------------------\n",
      "total_stops_duration_mins:\n",
      "Test Used: Kruskal-Wallis test, Statistic: 50.68848399622226, P-value: 2.593111906922115e-10\n",
      "Test Used: ANOVA test, Statistic: 8.523164304503199, P-value: 8.293859712529463e-07\n",
      "\n",
      "--------------------------------------------------\n",
      "duration_electronic_accessible_share:\n",
      "Test Used: Kruskal-Wallis test, Statistic: 169.13011571790503, P-value: 1.607527674857693e-35\n",
      "Test Used: ANOVA test, Statistic: 64.59845045213909, P-value: 6.930123680176106e-51\n",
      "\n",
      "--------------------------------------------------\n",
      "duration_electronic_hypnotic_share:\n",
      "Test Used: Kruskal-Wallis test, Statistic: 295.6003193396656, P-value: 9.634066243924072e-63\n",
      "Test Used: ANOVA test, Statistic: 97.60440151700372, P-value: 8.512190437247439e-75\n",
      "\n",
      "--------------------------------------------------\n",
      "duration_other_genres_share:\n",
      "Test Used: Kruskal-Wallis test, Statistic: 138.1509063894108, P-value: 7.022273783893564e-29\n",
      "Test Used: ANOVA test, Statistic: 43.7864266285414, P-value: 5.211485344228269e-35\n",
      "\n",
      "--------------------------------------------------\n",
      "duration_no_event_share:\n",
      "Test Used: Kruskal-Wallis test, Statistic: 66.31301764717904, P-value: 1.3607697718191415e-13\n",
      "Test Used: ANOVA test, Statistic: 4.4467816428411515, P-value: 0.001409374404183409\n",
      "\n",
      "--------------------------------------------------\n",
      "avg_adj_score_electronic_accessible:\n",
      "Test Used: Kruskal-Wallis test, Statistic: 215.42514274890996, P-value: 1.8084411837004074e-45\n",
      "Test Used: ANOVA test, Statistic: 22.366146654671457, P-value: 5.106082901377646e-18\n",
      "\n",
      "--------------------------------------------------\n",
      "avg_adj_score_electronic_hypnotic:\n",
      "Test Used: Kruskal-Wallis test, Statistic: 191.349745945033, P-value: 2.7179672620087706e-40\n",
      "Test Used: ANOVA test, Statistic: 12.841147528057522, P-value: 2.667938810760799e-10\n",
      "\n",
      "--------------------------------------------------\n",
      "avg_adj_score_other_genres:\n",
      "Test Used: Kruskal-Wallis test, Statistic: 126.50688342041279, P-value: 2.174080893337123e-26\n",
      "Test Used: ANOVA test, Statistic: 14.895978087173514, P-value: 5.7314606655137206e-12\n",
      "\n",
      "--------------------------------------------------\n",
      "duration_bar_restaurant_share:\n",
      "Test Used: Kruskal-Wallis test, Statistic: 146.45637899850342, P-value: 1.1694192768103714e-30\n",
      "Test Used: ANOVA test, Statistic: 34.28403369032748, P-value: 1.5027312582968283e-27\n",
      "\n",
      "--------------------------------------------------\n",
      "duration_other_share:\n",
      "Test Used: Kruskal-Wallis test, Statistic: 53.95052525360894, P-value: 5.389723248251246e-11\n",
      "Test Used: ANOVA test, Statistic: 2.7646079331747737, P-value: 0.02624084999738872\n",
      "\n",
      "--------------------------------------------------\n",
      "duration_stage_share:\n",
      "Test Used: Kruskal-Wallis test, Statistic: 120.60376068403137, P-value: 3.969171964331011e-25\n",
      "Test Used: ANOVA test, Statistic: 28.40944890416375, P-value: 7.118617414440871e-23\n",
      "\n",
      "--------------------------------------------------\n",
      "duration_SonarClub_share:\n",
      "Test Used: Kruskal-Wallis test, Statistic: 626.0712168348834, P-value: 3.5264807741959964e-134\n",
      "Test Used: ANOVA test, Statistic: 243.1239490572622, P-value: 4.852653323317822e-165\n",
      "\n",
      "--------------------------------------------------\n",
      "duration_SonarPub_share:\n",
      "Test Used: Kruskal-Wallis test, Statistic: 824.3240340754186, P-value: 4.134573715321024e-177\n",
      "Test Used: ANOVA test, Statistic: 359.9526290153208, P-value: 2.7687057541697035e-224\n",
      "\n",
      "--------------------------------------------------\n",
      "duration_SonarLab x Printworks_share:\n",
      "Test Used: Kruskal-Wallis test, Statistic: 328.19802350536133, P-value: 8.921732213353003e-70\n",
      "Test Used: ANOVA test, Statistic: 53.27206725862681, P-value: 2.523428895736046e-42\n",
      "\n",
      "--------------------------------------------------\n",
      "duration_SonarCar_share:\n",
      "Test Used: Kruskal-Wallis test, Statistic: 172.74882565032917, P-value: 2.688149404056821e-36\n",
      "Test Used: ANOVA test, Statistic: 35.58778776641401, P-value: 1.3985699336626884e-28\n",
      "\n",
      "--------------------------------------------------\n",
      "duration_Restaurants_share:\n",
      "Test Used: Kruskal-Wallis test, Statistic: 398.7366840032061, P-value: 5.21504796323106e-85\n",
      "Test Used: ANOVA test, Statistic: 55.17169540876841, P-value: 8.974480946576982e-44\n",
      "\n",
      "--------------------------------------------------\n",
      "duration_Bumper cars_share:\n",
      "Test Used: Kruskal-Wallis test, Statistic: 214.60961479579458, P-value: 2.7087068110240013e-45\n",
      "Test Used: ANOVA test, Statistic: 17.36616698717573, P-value: 5.6724067287887584e-14\n",
      "\n",
      "--------------------------------------------------\n",
      "duration_Bar: Restaurants-Bumper cars_share:\n",
      "Test Used: Kruskal-Wallis test, Statistic: 250.3149050544995, P-value: 5.568290815642446e-53\n",
      "Test Used: ANOVA test, Statistic: 10.236736511837886, P-value: 3.439425047228443e-08\n",
      "\n",
      "--------------------------------------------------\n",
      "duration_Entrance/Cashless_share:\n",
      "Test Used: Kruskal-Wallis test, Statistic: 70.85108161674067, P-value: 1.5006835325687756e-14\n",
      "Test Used: ANOVA test, Statistic: 8.979006044402972, P-value: 3.5628563429841904e-07\n"
     ]
    }
   ],
   "source": [
    "for col in cols_interest:\n",
    "    print(f\"\\n{'-'*50}\")\n",
    "    print(f\"{col}:\")\n",
    "    statistical_test(trajectory_general_measures_df=traj_clustering_results_n2, clusters_col='hdbscan_dtw_bcs_labels',variable_analysis=col)"
   ]
  },
  {
   "cell_type": "markdown",
   "metadata": {},
   "source": [
    "There are always differences, so it is not informative to document this."
   ]
  }
 ],
 "metadata": {
  "kernelspec": {
   "display_name": "skmob_updated_h3",
   "language": "python",
   "name": "python3"
  },
  "language_info": {
   "codemirror_mode": {
    "name": "ipython",
    "version": 3
   },
   "file_extension": ".py",
   "mimetype": "text/x-python",
   "name": "python",
   "nbconvert_exporter": "python",
   "pygments_lexer": "ipython3",
   "version": "3.9.19"
  }
 },
 "nbformat": 4,
 "nbformat_minor": 2
}
