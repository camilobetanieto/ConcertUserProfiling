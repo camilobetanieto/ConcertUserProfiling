{
 "cells": [
  {
   "cell_type": "markdown",
   "metadata": {},
   "source": [
    "# Comparing clustering assignments"
   ]
  },
  {
   "cell_type": "code",
   "execution_count": 1,
   "metadata": {},
   "outputs": [],
   "source": [
    "import pandas as pd\n",
    "import numpy as np\n",
    "import networkx as nx\n",
    "\n",
    "from sklearn.metrics import adjusted_rand_score\n",
    "from sklearn.metrics import normalized_mutual_info_score\n",
    "from sklearn.metrics.cluster import adjusted_mutual_info_score\n",
    "\n",
    "import os"
   ]
  },
  {
   "cell_type": "markdown",
   "metadata": {},
   "source": [
    "## Preliminaries"
   ]
  },
  {
   "cell_type": "markdown",
   "metadata": {},
   "source": [
    "Assigning the path to write the trajectories general measures with the clustering labels."
   ]
  },
  {
   "cell_type": "code",
   "execution_count": 14,
   "metadata": {},
   "outputs": [],
   "source": [
    "path_clustering_results_tables = r'..\\..\\Datasets\\Processed\\clustering_results'"
   ]
  },
  {
   "cell_type": "markdown",
   "metadata": {},
   "source": [
    "Assigning the path to read the community results from the gephi graphs."
   ]
  },
  {
   "cell_type": "code",
   "execution_count": 15,
   "metadata": {},
   "outputs": [],
   "source": [
    "path_graph_files = r'..\\..\\Datasets\\Processed\\graph_files'"
   ]
  },
  {
   "cell_type": "markdown",
   "metadata": {},
   "source": [
    "## Process for night 2"
   ]
  },
  {
   "cell_type": "markdown",
   "metadata": {},
   "source": [
    "### Reading the data"
   ]
  },
  {
   "cell_type": "code",
   "execution_count": 16,
   "metadata": {},
   "outputs": [],
   "source": [
    "traj_clustering_results_n2 = pd.read_csv(os.path.join(path_clustering_results_tables,f'traj_general_measures_labels_n2.csv'))"
   ]
  },
  {
   "cell_type": "code",
   "execution_count": 17,
   "metadata": {},
   "outputs": [],
   "source": [
    "graph_n2 = nx.read_gexf(os.path.join(path_graph_files,f'event_attendance_network_scores_n2.gexf'))"
   ]
  },
  {
   "cell_type": "markdown",
   "metadata": {},
   "source": [
    "### Extracting only the attendees from the gephi nodes"
   ]
  },
  {
   "cell_type": "markdown",
   "metadata": {},
   "source": [
    "I need to extract the nodes from the network. Additionally, as the nodes include event nodes, I need to filter them out."
   ]
  },
  {
   "cell_type": "code",
   "execution_count": 18,
   "metadata": {},
   "outputs": [],
   "source": [
    "nodes_n2 = pd.DataFrame.from_dict(dict(graph_n2.nodes(data=True)), orient='index').reset_index()\n",
    "nodes_n2.rename(columns={'index': 'uid'}, inplace=True)  # Rename node index column to 'uid'"
   ]
  },
  {
   "cell_type": "code",
   "execution_count": 19,
   "metadata": {},
   "outputs": [],
   "source": [
    "attendees_node_labels_n2 = nodes_n2.loc[nodes_n2['type']=='attendee']"
   ]
  },
  {
   "cell_type": "markdown",
   "metadata": {},
   "source": [
    "### Sorting the instances and checking the shapes and the counts by cluster."
   ]
  },
  {
   "cell_type": "code",
   "execution_count": 20,
   "metadata": {},
   "outputs": [],
   "source": [
    "def calculate_group_percentages(df, clusters_col):\n",
    "    grouped = df.groupby(clusters_col).size()\n",
    "    result_df = grouped.to_frame(name='counts')\n",
    "    result_df['percentages'] = (grouped / len(df)) * 100\n",
    "    return result_df.sort_values(by='counts', ascending=False)"
   ]
  },
  {
   "cell_type": "markdown",
   "metadata": {},
   "source": [
    "- Trajectory clustering"
   ]
  },
  {
   "cell_type": "markdown",
   "metadata": {},
   "source": [
    "Sorting the table with respect to the uid for the night."
   ]
  },
  {
   "cell_type": "code",
   "execution_count": 21,
   "metadata": {},
   "outputs": [],
   "source": [
    "traj_clustering_results_n2 = traj_clustering_results_n2.sort_values(by=['uid','tid']).reset_index(drop=True)"
   ]
  },
  {
   "cell_type": "code",
   "execution_count": 22,
   "metadata": {},
   "outputs": [
    {
     "name": "stdout",
     "output_type": "stream",
     "text": [
      "Length of the trajectory clusters table: (1695, 68)\n",
      "Counts by community:\n"
     ]
    },
    {
     "data": {
      "application/vnd.microsoft.datawrangler.viewer.v0+json": {
       "columns": [
        {
         "name": "hdbscan_dtw_bcs_labels",
         "rawType": "int64",
         "type": "integer"
        },
        {
         "name": "counts",
         "rawType": "int64",
         "type": "integer"
        },
        {
         "name": "percentages",
         "rawType": "float64",
         "type": "float"
        }
       ],
       "conversionMethod": "pd.DataFrame",
       "ref": "d3b7f32a-1fc6-497f-9579-ff4e58303377",
       "rows": [
        [
         "1",
         "564",
         "33.27433628318584"
        ],
        [
         "2",
         "553",
         "32.62536873156342"
        ],
        [
         "3",
         "421",
         "24.837758112094395"
        ],
        [
         "0",
         "115",
         "6.784660766961652"
        ],
        [
         "-1",
         "42",
         "2.47787610619469"
        ]
       ],
       "shape": {
        "columns": 2,
        "rows": 5
       }
      },
      "text/html": [
       "<div>\n",
       "<style scoped>\n",
       "    .dataframe tbody tr th:only-of-type {\n",
       "        vertical-align: middle;\n",
       "    }\n",
       "\n",
       "    .dataframe tbody tr th {\n",
       "        vertical-align: top;\n",
       "    }\n",
       "\n",
       "    .dataframe thead th {\n",
       "        text-align: right;\n",
       "    }\n",
       "</style>\n",
       "<table border=\"1\" class=\"dataframe\">\n",
       "  <thead>\n",
       "    <tr style=\"text-align: right;\">\n",
       "      <th></th>\n",
       "      <th>counts</th>\n",
       "      <th>percentages</th>\n",
       "    </tr>\n",
       "    <tr>\n",
       "      <th>hdbscan_dtw_bcs_labels</th>\n",
       "      <th></th>\n",
       "      <th></th>\n",
       "    </tr>\n",
       "  </thead>\n",
       "  <tbody>\n",
       "    <tr>\n",
       "      <th>1</th>\n",
       "      <td>564</td>\n",
       "      <td>33.274336</td>\n",
       "    </tr>\n",
       "    <tr>\n",
       "      <th>2</th>\n",
       "      <td>553</td>\n",
       "      <td>32.625369</td>\n",
       "    </tr>\n",
       "    <tr>\n",
       "      <th>3</th>\n",
       "      <td>421</td>\n",
       "      <td>24.837758</td>\n",
       "    </tr>\n",
       "    <tr>\n",
       "      <th>0</th>\n",
       "      <td>115</td>\n",
       "      <td>6.784661</td>\n",
       "    </tr>\n",
       "    <tr>\n",
       "      <th>-1</th>\n",
       "      <td>42</td>\n",
       "      <td>2.477876</td>\n",
       "    </tr>\n",
       "  </tbody>\n",
       "</table>\n",
       "</div>"
      ],
      "text/plain": [
       "                        counts  percentages\n",
       "hdbscan_dtw_bcs_labels                     \n",
       " 1                         564    33.274336\n",
       " 2                         553    32.625369\n",
       " 3                         421    24.837758\n",
       " 0                         115     6.784661\n",
       "-1                          42     2.477876"
      ]
     },
     "execution_count": 22,
     "metadata": {},
     "output_type": "execute_result"
    }
   ],
   "source": [
    "print(f'Length of the trajectory clusters table: {traj_clustering_results_n2.shape}')\n",
    "\n",
    "print(f'Counts by community:')\n",
    "calculate_group_percentages(df=traj_clustering_results_n2, clusters_col='hdbscan_dtw_bcs_labels')"
   ]
  },
  {
   "cell_type": "markdown",
   "metadata": {},
   "source": [
    "- Graph communities"
   ]
  },
  {
   "cell_type": "markdown",
   "metadata": {},
   "source": [
    "Sorting the table with respect to the uid for the night."
   ]
  },
  {
   "cell_type": "code",
   "execution_count": 23,
   "metadata": {},
   "outputs": [],
   "source": [
    "attendees_node_labels_n2 = attendees_node_labels_n2.sort_values(by=['uid']).reset_index(drop=True)"
   ]
  },
  {
   "cell_type": "code",
   "execution_count": 24,
   "metadata": {},
   "outputs": [
    {
     "name": "stdout",
     "output_type": "stream",
     "text": [
      "Length of the graph communities table: (1695, 5)\n",
      "Counts by community:\n"
     ]
    },
    {
     "data": {
      "application/vnd.microsoft.datawrangler.viewer.v0+json": {
       "columns": [
        {
         "name": "community",
         "rawType": "int64",
         "type": "integer"
        },
        {
         "name": "counts",
         "rawType": "int64",
         "type": "integer"
        },
        {
         "name": "percentages",
         "rawType": "float64",
         "type": "float"
        }
       ],
       "conversionMethod": "pd.DataFrame",
       "ref": "5dcf3ae5-c040-489f-a3b1-1be1bbd68bf7",
       "rows": [
        [
         "0",
         "183",
         "10.79646017699115"
        ],
        [
         "1",
         "163",
         "9.616519174041297"
        ],
        [
         "2",
         "147",
         "8.672566371681416"
        ],
        [
         "3",
         "144",
         "8.495575221238937"
        ],
        [
         "4",
         "143",
         "8.436578171091446"
        ],
        [
         "5",
         "136",
         "8.023598820058996"
        ],
        [
         "6",
         "121",
         "7.1386430678466075"
        ],
        [
         "7",
         "104",
         "6.1356932153392325"
        ],
        [
         "8",
         "97",
         "5.722713864306785"
        ],
        [
         "9",
         "95",
         "5.604719764011799"
        ],
        [
         "10",
         "79",
         "4.660766961651917"
        ],
        [
         "11",
         "78",
         "4.601769911504425"
        ],
        [
         "12",
         "70",
         "4.129793510324483"
        ],
        [
         "13",
         "65",
         "3.8348082595870205"
        ],
        [
         "14",
         "44",
         "2.5958702064896757"
        ],
        [
         "15",
         "26",
         "1.5339233038348081"
        ]
       ],
       "shape": {
        "columns": 2,
        "rows": 16
       }
      },
      "text/html": [
       "<div>\n",
       "<style scoped>\n",
       "    .dataframe tbody tr th:only-of-type {\n",
       "        vertical-align: middle;\n",
       "    }\n",
       "\n",
       "    .dataframe tbody tr th {\n",
       "        vertical-align: top;\n",
       "    }\n",
       "\n",
       "    .dataframe thead th {\n",
       "        text-align: right;\n",
       "    }\n",
       "</style>\n",
       "<table border=\"1\" class=\"dataframe\">\n",
       "  <thead>\n",
       "    <tr style=\"text-align: right;\">\n",
       "      <th></th>\n",
       "      <th>counts</th>\n",
       "      <th>percentages</th>\n",
       "    </tr>\n",
       "    <tr>\n",
       "      <th>community</th>\n",
       "      <th></th>\n",
       "      <th></th>\n",
       "    </tr>\n",
       "  </thead>\n",
       "  <tbody>\n",
       "    <tr>\n",
       "      <th>0</th>\n",
       "      <td>183</td>\n",
       "      <td>10.796460</td>\n",
       "    </tr>\n",
       "    <tr>\n",
       "      <th>1</th>\n",
       "      <td>163</td>\n",
       "      <td>9.616519</td>\n",
       "    </tr>\n",
       "    <tr>\n",
       "      <th>2</th>\n",
       "      <td>147</td>\n",
       "      <td>8.672566</td>\n",
       "    </tr>\n",
       "    <tr>\n",
       "      <th>3</th>\n",
       "      <td>144</td>\n",
       "      <td>8.495575</td>\n",
       "    </tr>\n",
       "    <tr>\n",
       "      <th>4</th>\n",
       "      <td>143</td>\n",
       "      <td>8.436578</td>\n",
       "    </tr>\n",
       "    <tr>\n",
       "      <th>5</th>\n",
       "      <td>136</td>\n",
       "      <td>8.023599</td>\n",
       "    </tr>\n",
       "    <tr>\n",
       "      <th>6</th>\n",
       "      <td>121</td>\n",
       "      <td>7.138643</td>\n",
       "    </tr>\n",
       "    <tr>\n",
       "      <th>7</th>\n",
       "      <td>104</td>\n",
       "      <td>6.135693</td>\n",
       "    </tr>\n",
       "    <tr>\n",
       "      <th>8</th>\n",
       "      <td>97</td>\n",
       "      <td>5.722714</td>\n",
       "    </tr>\n",
       "    <tr>\n",
       "      <th>9</th>\n",
       "      <td>95</td>\n",
       "      <td>5.604720</td>\n",
       "    </tr>\n",
       "    <tr>\n",
       "      <th>10</th>\n",
       "      <td>79</td>\n",
       "      <td>4.660767</td>\n",
       "    </tr>\n",
       "    <tr>\n",
       "      <th>11</th>\n",
       "      <td>78</td>\n",
       "      <td>4.601770</td>\n",
       "    </tr>\n",
       "    <tr>\n",
       "      <th>12</th>\n",
       "      <td>70</td>\n",
       "      <td>4.129794</td>\n",
       "    </tr>\n",
       "    <tr>\n",
       "      <th>13</th>\n",
       "      <td>65</td>\n",
       "      <td>3.834808</td>\n",
       "    </tr>\n",
       "    <tr>\n",
       "      <th>14</th>\n",
       "      <td>44</td>\n",
       "      <td>2.595870</td>\n",
       "    </tr>\n",
       "    <tr>\n",
       "      <th>15</th>\n",
       "      <td>26</td>\n",
       "      <td>1.533923</td>\n",
       "    </tr>\n",
       "  </tbody>\n",
       "</table>\n",
       "</div>"
      ],
      "text/plain": [
       "           counts  percentages\n",
       "community                     \n",
       "0             183    10.796460\n",
       "1             163     9.616519\n",
       "2             147     8.672566\n",
       "3             144     8.495575\n",
       "4             143     8.436578\n",
       "5             136     8.023599\n",
       "6             121     7.138643\n",
       "7             104     6.135693\n",
       "8              97     5.722714\n",
       "9              95     5.604720\n",
       "10             79     4.660767\n",
       "11             78     4.601770\n",
       "12             70     4.129794\n",
       "13             65     3.834808\n",
       "14             44     2.595870\n",
       "15             26     1.533923"
      ]
     },
     "execution_count": 24,
     "metadata": {},
     "output_type": "execute_result"
    }
   ],
   "source": [
    "print(f'Length of the graph communities table: {attendees_node_labels_n2.shape}')\n",
    "\n",
    "print(f'Counts by community:')\n",
    "calculate_group_percentages(df=attendees_node_labels_n2, clusters_col='community')"
   ]
  },
  {
   "cell_type": "markdown",
   "metadata": {},
   "source": [
    "### Checking the simmilarity between the two clustering/community detection approaches"
   ]
  },
  {
   "cell_type": "markdown",
   "metadata": {},
   "source": [
    "Check if the ordering of instances coincide."
   ]
  },
  {
   "cell_type": "code",
   "execution_count": 25,
   "metadata": {},
   "outputs": [
    {
     "name": "stdout",
     "output_type": "stream",
     "text": [
      "Do the orderings coincide? \n",
      "True\n"
     ]
    }
   ],
   "source": [
    "print(f\"Do the orderings coincide? \\n{(traj_clustering_results_n2['uid']==attendees_node_labels_n2['uid']).all()}\")"
   ]
  },
  {
   "cell_type": "markdown",
   "metadata": {},
   "source": [
    "#### Adjusted Rand Index (ARI)"
   ]
  },
  {
   "cell_type": "code",
   "execution_count": 26,
   "metadata": {},
   "outputs": [
    {
     "data": {
      "text/plain": [
       "0.03229883215852752"
      ]
     },
     "execution_count": 26,
     "metadata": {},
     "output_type": "execute_result"
    }
   ],
   "source": [
    "adjusted_rand_score(traj_clustering_results_n2['hdbscan_dtw_bcs_labels'], attendees_node_labels_n2['community'])"
   ]
  },
  {
   "cell_type": "markdown",
   "metadata": {},
   "source": [
    "#### Normalized Mutual Information (NMI)"
   ]
  },
  {
   "cell_type": "code",
   "execution_count": 27,
   "metadata": {},
   "outputs": [
    {
     "data": {
      "text/plain": [
       "0.1163236888408619"
      ]
     },
     "execution_count": 27,
     "metadata": {},
     "output_type": "execute_result"
    }
   ],
   "source": [
    "normalized_mutual_info_score(traj_clustering_results_n2['hdbscan_dtw_bcs_labels'], attendees_node_labels_n2['community'])"
   ]
  },
  {
   "cell_type": "markdown",
   "metadata": {},
   "source": [
    "Adjusted Mutual Information (AMI)"
   ]
  },
  {
   "cell_type": "code",
   "execution_count": 28,
   "metadata": {},
   "outputs": [
    {
     "data": {
      "text/plain": [
       "0.10815275192942547"
      ]
     },
     "execution_count": 28,
     "metadata": {},
     "output_type": "execute_result"
    }
   ],
   "source": [
    "adjusted_mutual_info_score(traj_clustering_results_n2['hdbscan_dtw_bcs_labels'], attendees_node_labels_n2['community'])"
   ]
  },
  {
   "cell_type": "markdown",
   "metadata": {},
   "source": [
    "## Process for night 1"
   ]
  },
  {
   "cell_type": "markdown",
   "metadata": {},
   "source": [
    "### Reading the data"
   ]
  },
  {
   "cell_type": "code",
   "execution_count": 29,
   "metadata": {},
   "outputs": [],
   "source": [
    "traj_clustering_results_n1 = pd.read_csv(os.path.join(path_clustering_results_tables,f'traj_general_measures_labels_n1.csv'))"
   ]
  },
  {
   "cell_type": "code",
   "execution_count": 30,
   "metadata": {},
   "outputs": [],
   "source": [
    "graph_n1 = nx.read_gexf(os.path.join(path_graph_files,f'event_attendance_network_scores_n1.gexf'))"
   ]
  },
  {
   "cell_type": "markdown",
   "metadata": {},
   "source": [
    "### Extracting only the attendees from the gephi nodes"
   ]
  },
  {
   "cell_type": "markdown",
   "metadata": {},
   "source": [
    "I need to extract the nodes from the network. Additionally, as the nodes include event nodes, I need to filter them out."
   ]
  },
  {
   "cell_type": "code",
   "execution_count": 31,
   "metadata": {},
   "outputs": [],
   "source": [
    "nodes_n1 = pd.DataFrame.from_dict(dict(graph_n1.nodes(data=True)), orient='index').reset_index()\n",
    "nodes_n1.rename(columns={'index': 'uid'}, inplace=True)  # Rename node index column to 'uid'"
   ]
  },
  {
   "cell_type": "code",
   "execution_count": 32,
   "metadata": {},
   "outputs": [],
   "source": [
    "attendees_node_labels_n1 = nodes_n1.loc[nodes_n1['type']=='attendee']"
   ]
  },
  {
   "cell_type": "markdown",
   "metadata": {},
   "source": [
    "### Sorting the instances and checking the shapes and the counts by cluster."
   ]
  },
  {
   "cell_type": "markdown",
   "metadata": {},
   "source": [
    "Sorting the table with respect to the uid for the night."
   ]
  },
  {
   "cell_type": "code",
   "execution_count": 33,
   "metadata": {},
   "outputs": [],
   "source": [
    "traj_clustering_results_n1 = traj_clustering_results_n1.sort_values(by=['uid','tid']).reset_index(drop=True)"
   ]
  },
  {
   "cell_type": "markdown",
   "metadata": {},
   "source": [
    "- Trajectory clustering"
   ]
  },
  {
   "cell_type": "code",
   "execution_count": 34,
   "metadata": {},
   "outputs": [
    {
     "name": "stdout",
     "output_type": "stream",
     "text": [
      "Length of the trajectory clusters table (night 1): (1580, 65)\n",
      "Counts by community:\n"
     ]
    },
    {
     "data": {
      "application/vnd.microsoft.datawrangler.viewer.v0+json": {
       "columns": [
        {
         "name": "hdbscan_dtw_dbcv_branch_labels",
         "rawType": "int64",
         "type": "integer"
        },
        {
         "name": "counts",
         "rawType": "int64",
         "type": "integer"
        },
        {
         "name": "percentages",
         "rawType": "float64",
         "type": "float"
        }
       ],
       "conversionMethod": "pd.DataFrame",
       "ref": "cff09262-dd45-4c7a-b889-bea5181fe3a7",
       "rows": [
        [
         "3",
         "556",
         "35.189873417721515"
        ],
        [
         "1",
         "455",
         "28.79746835443038"
        ],
        [
         "2",
         "441",
         "27.91139240506329"
        ],
        [
         "0",
         "128",
         "8.10126582278481"
        ]
       ],
       "shape": {
        "columns": 2,
        "rows": 4
       }
      },
      "text/html": [
       "<div>\n",
       "<style scoped>\n",
       "    .dataframe tbody tr th:only-of-type {\n",
       "        vertical-align: middle;\n",
       "    }\n",
       "\n",
       "    .dataframe tbody tr th {\n",
       "        vertical-align: top;\n",
       "    }\n",
       "\n",
       "    .dataframe thead th {\n",
       "        text-align: right;\n",
       "    }\n",
       "</style>\n",
       "<table border=\"1\" class=\"dataframe\">\n",
       "  <thead>\n",
       "    <tr style=\"text-align: right;\">\n",
       "      <th></th>\n",
       "      <th>counts</th>\n",
       "      <th>percentages</th>\n",
       "    </tr>\n",
       "    <tr>\n",
       "      <th>hdbscan_dtw_dbcv_branch_labels</th>\n",
       "      <th></th>\n",
       "      <th></th>\n",
       "    </tr>\n",
       "  </thead>\n",
       "  <tbody>\n",
       "    <tr>\n",
       "      <th>3</th>\n",
       "      <td>556</td>\n",
       "      <td>35.189873</td>\n",
       "    </tr>\n",
       "    <tr>\n",
       "      <th>1</th>\n",
       "      <td>455</td>\n",
       "      <td>28.797468</td>\n",
       "    </tr>\n",
       "    <tr>\n",
       "      <th>2</th>\n",
       "      <td>441</td>\n",
       "      <td>27.911392</td>\n",
       "    </tr>\n",
       "    <tr>\n",
       "      <th>0</th>\n",
       "      <td>128</td>\n",
       "      <td>8.101266</td>\n",
       "    </tr>\n",
       "  </tbody>\n",
       "</table>\n",
       "</div>"
      ],
      "text/plain": [
       "                                counts  percentages\n",
       "hdbscan_dtw_dbcv_branch_labels                     \n",
       "3                                  556    35.189873\n",
       "1                                  455    28.797468\n",
       "2                                  441    27.911392\n",
       "0                                  128     8.101266"
      ]
     },
     "execution_count": 34,
     "metadata": {},
     "output_type": "execute_result"
    }
   ],
   "source": [
    "print(f'Length of the trajectory clusters table (night 1): {traj_clustering_results_n1.shape}')\n",
    "\n",
    "print(f'Counts by community:')\n",
    "calculate_group_percentages(df=traj_clustering_results_n1, clusters_col='hdbscan_dtw_dbcv_branch_labels')"
   ]
  },
  {
   "cell_type": "markdown",
   "metadata": {},
   "source": [
    "- Graph communities"
   ]
  },
  {
   "cell_type": "markdown",
   "metadata": {},
   "source": [
    "Sorting the table with respect to the uid for the night."
   ]
  },
  {
   "cell_type": "code",
   "execution_count": 35,
   "metadata": {},
   "outputs": [],
   "source": [
    "attendees_node_labels_n1 = attendees_node_labels_n1.sort_values(by=['uid']).reset_index(drop=True)"
   ]
  },
  {
   "cell_type": "code",
   "execution_count": 36,
   "metadata": {},
   "outputs": [
    {
     "name": "stdout",
     "output_type": "stream",
     "text": [
      "Length of the gephi communities table: (1580, 5)\n",
      "Counts by community:\n"
     ]
    },
    {
     "data": {
      "application/vnd.microsoft.datawrangler.viewer.v0+json": {
       "columns": [
        {
         "name": "community",
         "rawType": "int64",
         "type": "integer"
        },
        {
         "name": "counts",
         "rawType": "int64",
         "type": "integer"
        },
        {
         "name": "percentages",
         "rawType": "float64",
         "type": "float"
        }
       ],
       "conversionMethod": "pd.DataFrame",
       "ref": "758a3105-85d4-44bf-b25d-940e1c5ca3da",
       "rows": [
        [
         "0",
         "205",
         "12.974683544303797"
        ],
        [
         "1",
         "168",
         "10.632911392405063"
        ],
        [
         "2",
         "162",
         "10.253164556962027"
        ],
        [
         "3",
         "152",
         "9.620253164556962"
        ],
        [
         "4",
         "144",
         "9.113924050632912"
        ],
        [
         "5",
         "141",
         "8.924050632911392"
        ],
        [
         "6",
         "109",
         "6.89873417721519"
        ],
        [
         "7",
         "104",
         "6.582278481012659"
        ],
        [
         "8",
         "90",
         "5.69620253164557"
        ],
        [
         "9",
         "84",
         "5.3164556962025316"
        ],
        [
         "10",
         "76",
         "4.810126582278481"
        ],
        [
         "11",
         "74",
         "4.6835443037974684"
        ],
        [
         "12",
         "45",
         "2.848101265822785"
        ],
        [
         "13",
         "26",
         "1.6455696202531647"
        ]
       ],
       "shape": {
        "columns": 2,
        "rows": 14
       }
      },
      "text/html": [
       "<div>\n",
       "<style scoped>\n",
       "    .dataframe tbody tr th:only-of-type {\n",
       "        vertical-align: middle;\n",
       "    }\n",
       "\n",
       "    .dataframe tbody tr th {\n",
       "        vertical-align: top;\n",
       "    }\n",
       "\n",
       "    .dataframe thead th {\n",
       "        text-align: right;\n",
       "    }\n",
       "</style>\n",
       "<table border=\"1\" class=\"dataframe\">\n",
       "  <thead>\n",
       "    <tr style=\"text-align: right;\">\n",
       "      <th></th>\n",
       "      <th>counts</th>\n",
       "      <th>percentages</th>\n",
       "    </tr>\n",
       "    <tr>\n",
       "      <th>community</th>\n",
       "      <th></th>\n",
       "      <th></th>\n",
       "    </tr>\n",
       "  </thead>\n",
       "  <tbody>\n",
       "    <tr>\n",
       "      <th>0</th>\n",
       "      <td>205</td>\n",
       "      <td>12.974684</td>\n",
       "    </tr>\n",
       "    <tr>\n",
       "      <th>1</th>\n",
       "      <td>168</td>\n",
       "      <td>10.632911</td>\n",
       "    </tr>\n",
       "    <tr>\n",
       "      <th>2</th>\n",
       "      <td>162</td>\n",
       "      <td>10.253165</td>\n",
       "    </tr>\n",
       "    <tr>\n",
       "      <th>3</th>\n",
       "      <td>152</td>\n",
       "      <td>9.620253</td>\n",
       "    </tr>\n",
       "    <tr>\n",
       "      <th>4</th>\n",
       "      <td>144</td>\n",
       "      <td>9.113924</td>\n",
       "    </tr>\n",
       "    <tr>\n",
       "      <th>5</th>\n",
       "      <td>141</td>\n",
       "      <td>8.924051</td>\n",
       "    </tr>\n",
       "    <tr>\n",
       "      <th>6</th>\n",
       "      <td>109</td>\n",
       "      <td>6.898734</td>\n",
       "    </tr>\n",
       "    <tr>\n",
       "      <th>7</th>\n",
       "      <td>104</td>\n",
       "      <td>6.582278</td>\n",
       "    </tr>\n",
       "    <tr>\n",
       "      <th>8</th>\n",
       "      <td>90</td>\n",
       "      <td>5.696203</td>\n",
       "    </tr>\n",
       "    <tr>\n",
       "      <th>9</th>\n",
       "      <td>84</td>\n",
       "      <td>5.316456</td>\n",
       "    </tr>\n",
       "    <tr>\n",
       "      <th>10</th>\n",
       "      <td>76</td>\n",
       "      <td>4.810127</td>\n",
       "    </tr>\n",
       "    <tr>\n",
       "      <th>11</th>\n",
       "      <td>74</td>\n",
       "      <td>4.683544</td>\n",
       "    </tr>\n",
       "    <tr>\n",
       "      <th>12</th>\n",
       "      <td>45</td>\n",
       "      <td>2.848101</td>\n",
       "    </tr>\n",
       "    <tr>\n",
       "      <th>13</th>\n",
       "      <td>26</td>\n",
       "      <td>1.645570</td>\n",
       "    </tr>\n",
       "  </tbody>\n",
       "</table>\n",
       "</div>"
      ],
      "text/plain": [
       "           counts  percentages\n",
       "community                     \n",
       "0             205    12.974684\n",
       "1             168    10.632911\n",
       "2             162    10.253165\n",
       "3             152     9.620253\n",
       "4             144     9.113924\n",
       "5             141     8.924051\n",
       "6             109     6.898734\n",
       "7             104     6.582278\n",
       "8              90     5.696203\n",
       "9              84     5.316456\n",
       "10             76     4.810127\n",
       "11             74     4.683544\n",
       "12             45     2.848101\n",
       "13             26     1.645570"
      ]
     },
     "execution_count": 36,
     "metadata": {},
     "output_type": "execute_result"
    }
   ],
   "source": [
    "print(f'Length of the gephi communities table: {attendees_node_labels_n1.shape}')\n",
    "\n",
    "print(f'Counts by community:')\n",
    "calculate_group_percentages(df=attendees_node_labels_n1, clusters_col='community')"
   ]
  },
  {
   "cell_type": "markdown",
   "metadata": {},
   "source": [
    "### Checking the simmilarity between the two clustering/community detection approaches"
   ]
  },
  {
   "cell_type": "markdown",
   "metadata": {},
   "source": [
    "Check if the ordering of instances coincide."
   ]
  },
  {
   "cell_type": "code",
   "execution_count": 37,
   "metadata": {},
   "outputs": [
    {
     "name": "stdout",
     "output_type": "stream",
     "text": [
      "Do the orderings coincide? \n",
      "True\n"
     ]
    }
   ],
   "source": [
    "print(f\"Do the orderings coincide? \\n{(traj_clustering_results_n1['uid']==attendees_node_labels_n1['uid']).all()}\")"
   ]
  },
  {
   "cell_type": "markdown",
   "metadata": {},
   "source": [
    "#### Adjusted Rand Index (ARI)"
   ]
  },
  {
   "cell_type": "code",
   "execution_count": 38,
   "metadata": {},
   "outputs": [
    {
     "data": {
      "text/plain": [
       "0.03806275888464409"
      ]
     },
     "execution_count": 38,
     "metadata": {},
     "output_type": "execute_result"
    }
   ],
   "source": [
    "adjusted_rand_score(traj_clustering_results_n1['hdbscan_dtw_dbcv_branch_labels'], attendees_node_labels_n1['community'])"
   ]
  },
  {
   "cell_type": "code",
   "execution_count": 39,
   "metadata": {},
   "outputs": [
    {
     "data": {
      "text/plain": [
       "0.06482722942850261"
      ]
     },
     "execution_count": 39,
     "metadata": {},
     "output_type": "execute_result"
    }
   ],
   "source": [
    "adjusted_rand_score(traj_clustering_results_n1['kmedoids_dtw_labels'], attendees_node_labels_n1['community'])"
   ]
  },
  {
   "cell_type": "markdown",
   "metadata": {},
   "source": [
    "#### Normalized Mutual Information (NMI)"
   ]
  },
  {
   "cell_type": "code",
   "execution_count": 40,
   "metadata": {},
   "outputs": [
    {
     "data": {
      "text/plain": [
       "0.10921671563942081"
      ]
     },
     "execution_count": 40,
     "metadata": {},
     "output_type": "execute_result"
    }
   ],
   "source": [
    "normalized_mutual_info_score(traj_clustering_results_n1['hdbscan_dtw_dbcv_branch_labels'], attendees_node_labels_n1['community'])"
   ]
  },
  {
   "cell_type": "code",
   "execution_count": 41,
   "metadata": {},
   "outputs": [
    {
     "data": {
      "text/plain": [
       "0.15853946555114481"
      ]
     },
     "execution_count": 41,
     "metadata": {},
     "output_type": "execute_result"
    }
   ],
   "source": [
    "normalized_mutual_info_score(traj_clustering_results_n1['kmedoids_dtw_labels'], attendees_node_labels_n1['community'])"
   ]
  },
  {
   "cell_type": "markdown",
   "metadata": {},
   "source": [
    "Adjusted Mutual Information (AMI)"
   ]
  },
  {
   "cell_type": "code",
   "execution_count": 42,
   "metadata": {},
   "outputs": [
    {
     "data": {
      "text/plain": [
       "0.10332085989002174"
      ]
     },
     "execution_count": 42,
     "metadata": {},
     "output_type": "execute_result"
    }
   ],
   "source": [
    "adjusted_mutual_info_score(traj_clustering_results_n1['hdbscan_dtw_dbcv_branch_labels'], attendees_node_labels_n1['community'])"
   ]
  },
  {
   "cell_type": "code",
   "execution_count": 43,
   "metadata": {},
   "outputs": [
    {
     "data": {
      "text/plain": [
       "0.1501442680707489"
      ]
     },
     "execution_count": 43,
     "metadata": {},
     "output_type": "execute_result"
    }
   ],
   "source": [
    "adjusted_mutual_info_score(traj_clustering_results_n1['kmedoids_dtw_labels'], attendees_node_labels_n1['community'])"
   ]
  }
 ],
 "metadata": {
  "kernelspec": {
   "display_name": "skmob_updated_h3",
   "language": "python",
   "name": "python3"
  },
  "language_info": {
   "codemirror_mode": {
    "name": "ipython",
    "version": 3
   },
   "file_extension": ".py",
   "mimetype": "text/x-python",
   "name": "python",
   "nbconvert_exporter": "python",
   "pygments_lexer": "ipython3",
   "version": "3.9.19"
  }
 },
 "nbformat": 4,
 "nbformat_minor": 2
}
