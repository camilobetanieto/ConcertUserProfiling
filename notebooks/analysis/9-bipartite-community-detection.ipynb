{
 "cells": [
  {
   "cell_type": "markdown",
   "metadata": {},
   "source": [
    "# Community detection in graphs"
   ]
  },
  {
   "cell_type": "markdown",
   "metadata": {},
   "source": [
    "For package compatibility reasons, this notebook should run with the `sknetwork_updated` environment."
   ]
  },
  {
   "cell_type": "code",
   "execution_count": 1,
   "metadata": {},
   "outputs": [],
   "source": [
    "import networkx as nx\n",
    "from networkx.algorithms import bipartite\n",
    "from sknetwork.clustering import Louvain, get_modularity\n",
    "from scipy import sparse\n",
    "import numpy as np\n",
    "import pandas as pd\n",
    "import os"
   ]
  },
  {
   "cell_type": "code",
   "execution_count": 3,
   "metadata": {},
   "outputs": [],
   "source": [
    "import sys\n",
    "from pathlib import Path\n",
    "\n",
    "# Adding the project root for module imports\n",
    "project_root = Path().resolve().parents[1]\n",
    "sys.path.append(str(project_root))\n",
    "\n",
    "from attendee_profiling import config, constants, graph_communities\n",
    "from attendee_profiling.graphs_creation import save_network_gexf"
   ]
  },
  {
   "cell_type": "code",
   "execution_count": 10,
   "metadata": {},
   "outputs": [
    {
     "data": {
      "text/plain": [
       "<module 'attendee_profiling.config' from 'C:\\\\Camilo\\\\Estudio\\\\Padova\\\\Master thesis\\\\master-thesis-reorg\\\\attendee_profiling\\\\config.py'>"
      ]
     },
     "execution_count": 10,
     "metadata": {},
     "output_type": "execute_result"
    }
   ],
   "source": [
    "import importlib\n",
    "importlib.reload(config)\n"
   ]
  },
  {
   "cell_type": "markdown",
   "metadata": {},
   "source": [
    "## Preliminaries"
   ]
  },
  {
   "cell_type": "code",
   "execution_count": 11,
   "metadata": {},
   "outputs": [],
   "source": [
    "TABLES_DESCRIPTION_PATH =  config.TABLES_DESCRIPTION_PATH"
   ]
  },
  {
   "cell_type": "code",
   "execution_count": 13,
   "metadata": {},
   "outputs": [],
   "source": [
    "GRAPH_FILES_PATH =  config.GRAPH_FILES_PATH"
   ]
  },
  {
   "cell_type": "markdown",
   "metadata": {},
   "source": [
    "## Creating the bipartite graphs"
   ]
  },
  {
   "cell_type": "code",
   "execution_count": 16,
   "metadata": {},
   "outputs": [
    {
     "name": "stdout",
     "output_type": "stream",
     "text": [
      "Script name: ../../attendee_profiling/graphs_creation.py\n",
      "Reading data from C:\\Camilo\\Estudio\\Padova\\Master\n",
      "Path to save the networks: thesis\\Datasets\\Processed\\tables_for_description\n",
      "C:\\Camilo\\Estudio\\Padova\\Master\\user_event_scores_durations_night.csv does not exist.\n"
     ]
    }
   ],
   "source": [
    "%run ../../attendee_profiling/graphs_creation.py {TABLES_DESCRIPTION_PATH} {GRAPH_FILES_PATH}"
   ]
  },
  {
   "cell_type": "markdown",
   "metadata": {},
   "source": [
    "## Process for night 2"
   ]
  },
  {
   "cell_type": "markdown",
   "metadata": {},
   "source": [
    "Reading the graphs created above with `networkx`."
   ]
  },
  {
   "cell_type": "code",
   "execution_count": null,
   "metadata": {},
   "outputs": [],
   "source": [
    "graph_filename_n2 = os.path.join(GRAPH_FILES_PATH,'event_attendance_network_scores_n2.gexf')"
   ]
  },
  {
   "cell_type": "code",
   "execution_count": 7,
   "metadata": {},
   "outputs": [],
   "source": [
    "graph_n2 = nx.read_gexf(graph_filename_n2)"
   ]
  },
  {
   "cell_type": "markdown",
   "metadata": {},
   "source": [
    "Exracting the information of the graph to fromat it as a bipartite network and obtain the biadjacency matrix format suitable for `sknetwork`."
   ]
  },
  {
   "cell_type": "code",
   "execution_count": 8,
   "metadata": {},
   "outputs": [
    {
     "name": "stdout",
     "output_type": "stream",
     "text": [
      "Attendees node list lenght: 1695\n",
      "Attendees node list lenght: 26\n"
     ]
    }
   ],
   "source": [
    "# Extract the bottom (attendees) and top (events) nodes.\n",
    "# Nodes are sorted to guarantee that labels coincide in the end\n",
    "attendee_nodes_n2, event_nodes_n2 = bipartite.sets(graph_n2)\n",
    "attendee_nodes_n2 = sorted(attendee_nodes_n2)\n",
    "event_nodes_n2 = sorted(event_nodes_n2)\n",
    "\n",
    "print(f'Attendees node list lenght: {len(attendee_nodes_n2)}')\n",
    "print(f'Attendees node list lenght: {len(event_nodes_n2)}')"
   ]
  },
  {
   "cell_type": "code",
   "execution_count": 9,
   "metadata": {},
   "outputs": [
    {
     "name": "stdout",
     "output_type": "stream",
     "text": [
      "Biadjacency matrix shape: (1695, 26)\n"
     ]
    }
   ],
   "source": [
    "# Get the biadjacency matrix in the fromat required by sknetwork\n",
    "biadjacency_n2 = bipartite.biadjacency_matrix(graph_n2,\n",
    "                                              row_order=attendee_nodes_n2,\n",
    "                                              column_order=event_nodes_n2)\n",
    "biadjacency_n2 = sparse.csr_matrix(biadjacency_n2)\n",
    "print(f'Biadjacency matrix shape: {biadjacency_n2.shape}')"
   ]
  },
  {
   "cell_type": "markdown",
   "metadata": {},
   "source": [
    "### Community detection for different resolution values"
   ]
  },
  {
   "cell_type": "code",
   "execution_count": 10,
   "metadata": {},
   "outputs": [
    {
     "data": {
      "text/plain": [
       "[0.3, 0.4, 0.5, 0.6, 0.7, 0.8, 0.9, 1.0, 1.1, 1.2, 1.3]"
      ]
     },
     "execution_count": 10,
     "metadata": {},
     "output_type": "execute_result"
    }
   ],
   "source": [
    "resolutions = [round(x * 0.1, 1) for x in range(3,14)]\n",
    "resolutions"
   ]
  },
  {
   "cell_type": "code",
   "execution_count": 11,
   "metadata": {},
   "outputs": [
    {
     "data": {
      "application/vnd.microsoft.datawrangler.viewer.v0+json": {
       "columns": [
        {
         "name": "index",
         "rawType": "int64",
         "type": "integer"
        },
        {
         "name": "resolution",
         "rawType": "float64",
         "type": "float"
        },
        {
         "name": "labels_attendees",
         "rawType": "object",
         "type": "unknown"
        },
        {
         "name": "labels_events",
         "rawType": "object",
         "type": "unknown"
        },
        {
         "name": "num_attendee_comms",
         "rawType": "int64",
         "type": "integer"
        },
        {
         "name": "modularity",
         "rawType": "float64",
         "type": "float"
        }
       ],
       "conversionMethod": "pd.DataFrame",
       "ref": "b2434697-ad4a-4900-be65-2dd3cb087907",
       "rows": [
        [
         "8",
         "1.1",
         "[12  3  5 ... 10  8  0]",
         "[ 2  0  7 11  8  3 13  3 10  0  2 14  0 12  4  9  6  1  1 15  8  6  4  6\n  5 13]",
         "16",
         "0.4929595196648409"
        ],
        [
         "7",
         "1.0",
         "[12  3  5 ... 10  8  0]",
         "[ 2  0  7 11  8  3 13  3 10  0  2 14  0 12  4  9  6  1  1 15  8  6  4  6\n  5 13]",
         "16",
         "0.49282919457890245"
        ],
        [
         "9",
         "1.2",
         "[12  3  4 ... 10  7  0]",
         "[ 5  0  6  9  7  3 13  3 10  0 16 15  0 12  2  8 14  1  1 17  7 11  2 14\n  4 13]",
         "18",
         "0.4917888873503665"
        ],
        [
         "6",
         "0.9",
         "[10  1  5 ...  9  8  2]",
         "[ 4  2  7  1  8  3 11  1  9  2  4  6  2 10  3  6  0  0  0 12  8  0  3  0\n  5 11]",
         "13",
         "0.49166829427704095"
        ],
        [
         "10",
         "1.3",
         "[ 2  5  3 ... 11  6  0]",
         "[ 4  0  8  9  6 16 13  7 11  0 17 15  0 12  2  5 14  1  1 18  6 10  2 14\n  3 13]",
         "19",
         "0.4904267099375375"
        ],
        [
         "5",
         "0.8",
         "[5 0 1 ... 1 8 3]",
         "[2 3 0 2 8 0 4 0 1 3 0 6 3 5 0 6 7 4 4 9 8 5 1 7 1 7]",
         "10",
         "0.48444733329285383"
        ],
        [
         "4",
         "0.7",
         "[4 0 3 ... 2 4 2]",
         "[5 2 0 0 4 0 1 0 2 2 0 6 2 4 0 6 1 1 1 7 4 1 3 1 3 1]",
         "8",
         "0.4758855336717757"
        ],
        [
         "3",
         "0.6",
         "[1 0 2 ... 3 1 3]",
         "[4 3 0 0 0 0 1 0 3 3 0 2 3 1 0 2 1 1 1 5 1 1 0 1 2 1]",
         "6",
         "0.454370508393534"
        ],
        [
         "2",
         "0.5",
         "[1 0 0 ... 2 0 2]",
         "[3 2 0 0 0 0 1 0 2 2 0 0 2 1 0 0 1 1 1 4 0 1 0 1 0 1]",
         "5",
         "0.4080780809046719"
        ],
        [
         "1",
         "0.4",
         "[0 0 0 ... 2 0 2]",
         "[0 2 0 0 0 0 1 0 2 2 0 0 2 0 0 0 1 1 1 2 0 0 0 1 0 1]",
         "3",
         "0.33448854414498486"
        ],
        [
         "0",
         "0.3",
         "[0 0 0 ... 0 0 0]",
         "[0 0 0 0 0 0 0 0 0 0 0 0 0 0 0 0 0 0 0 0 0 0 0 0 0 0]",
         "1",
         "-4.440892098500626e-16"
        ]
       ],
       "shape": {
        "columns": 5,
        "rows": 11
       }
      },
      "text/html": [
       "<div>\n",
       "<style scoped>\n",
       "    .dataframe tbody tr th:only-of-type {\n",
       "        vertical-align: middle;\n",
       "    }\n",
       "\n",
       "    .dataframe tbody tr th {\n",
       "        vertical-align: top;\n",
       "    }\n",
       "\n",
       "    .dataframe thead th {\n",
       "        text-align: right;\n",
       "    }\n",
       "</style>\n",
       "<table border=\"1\" class=\"dataframe\">\n",
       "  <thead>\n",
       "    <tr style=\"text-align: right;\">\n",
       "      <th></th>\n",
       "      <th>resolution</th>\n",
       "      <th>labels_attendees</th>\n",
       "      <th>labels_events</th>\n",
       "      <th>num_attendee_comms</th>\n",
       "      <th>modularity</th>\n",
       "    </tr>\n",
       "  </thead>\n",
       "  <tbody>\n",
       "    <tr>\n",
       "      <th>8</th>\n",
       "      <td>1.1</td>\n",
       "      <td>[12, 3, 5, 9, 6, 8, 4, 4, 3, 11, 3, 6, 3, 6, 4...</td>\n",
       "      <td>[2, 0, 7, 11, 8, 3, 13, 3, 10, 0, 2, 14, 0, 12...</td>\n",
       "      <td>16</td>\n",
       "      <td>4.929595e-01</td>\n",
       "    </tr>\n",
       "    <tr>\n",
       "      <th>7</th>\n",
       "      <td>1.0</td>\n",
       "      <td>[12, 3, 5, 9, 6, 8, 4, 4, 3, 11, 3, 6, 3, 6, 4...</td>\n",
       "      <td>[2, 0, 7, 11, 8, 3, 13, 3, 10, 0, 2, 14, 0, 12...</td>\n",
       "      <td>16</td>\n",
       "      <td>4.928292e-01</td>\n",
       "    </tr>\n",
       "    <tr>\n",
       "      <th>9</th>\n",
       "      <td>1.2</td>\n",
       "      <td>[12, 3, 4, 8, 11, 7, 2, 2, 3, 9, 3, 11, 3, 11,...</td>\n",
       "      <td>[5, 0, 6, 9, 7, 3, 13, 3, 10, 0, 16, 15, 0, 12...</td>\n",
       "      <td>18</td>\n",
       "      <td>4.917889e-01</td>\n",
       "    </tr>\n",
       "    <tr>\n",
       "      <th>6</th>\n",
       "      <td>0.9</td>\n",
       "      <td>[10, 1, 5, 6, 0, 8, 3, 3, 1, 1, 3, 0, 1, 0, 3,...</td>\n",
       "      <td>[4, 2, 7, 1, 8, 3, 11, 1, 9, 2, 4, 6, 2, 10, 3...</td>\n",
       "      <td>13</td>\n",
       "      <td>4.916683e-01</td>\n",
       "    </tr>\n",
       "    <tr>\n",
       "      <th>10</th>\n",
       "      <td>1.3</td>\n",
       "      <td>[2, 5, 3, 5, 10, 6, 2, 2, 7, 9, 16, 10, 7, 10,...</td>\n",
       "      <td>[4, 0, 8, 9, 6, 16, 13, 7, 11, 0, 17, 15, 0, 1...</td>\n",
       "      <td>19</td>\n",
       "      <td>4.904267e-01</td>\n",
       "    </tr>\n",
       "    <tr>\n",
       "      <th>5</th>\n",
       "      <td>0.8</td>\n",
       "      <td>[5, 0, 1, 6, 5, 8, 0, 0, 0, 2, 0, 5, 0, 5, 1, ...</td>\n",
       "      <td>[2, 3, 0, 2, 8, 0, 4, 0, 1, 3, 0, 6, 3, 5, 0, ...</td>\n",
       "      <td>10</td>\n",
       "      <td>4.844473e-01</td>\n",
       "    </tr>\n",
       "    <tr>\n",
       "      <th>4</th>\n",
       "      <td>0.7</td>\n",
       "      <td>[4, 0, 3, 6, 1, 4, 0, 0, 0, 0, 0, 1, 0, 1, 3, ...</td>\n",
       "      <td>[5, 2, 0, 0, 4, 0, 1, 0, 2, 2, 0, 6, 2, 4, 0, ...</td>\n",
       "      <td>8</td>\n",
       "      <td>4.758855e-01</td>\n",
       "    </tr>\n",
       "    <tr>\n",
       "      <th>3</th>\n",
       "      <td>0.6</td>\n",
       "      <td>[1, 0, 2, 2, 1, 1, 0, 0, 0, 0, 0, 1, 0, 1, 0, ...</td>\n",
       "      <td>[4, 3, 0, 0, 0, 0, 1, 0, 3, 3, 0, 2, 3, 1, 0, ...</td>\n",
       "      <td>6</td>\n",
       "      <td>4.543705e-01</td>\n",
       "    </tr>\n",
       "    <tr>\n",
       "      <th>2</th>\n",
       "      <td>0.5</td>\n",
       "      <td>[1, 0, 0, 0, 1, 0, 0, 0, 0, 0, 0, 1, 0, 1, 0, ...</td>\n",
       "      <td>[3, 2, 0, 0, 0, 0, 1, 0, 2, 2, 0, 0, 2, 1, 0, ...</td>\n",
       "      <td>5</td>\n",
       "      <td>4.080781e-01</td>\n",
       "    </tr>\n",
       "    <tr>\n",
       "      <th>1</th>\n",
       "      <td>0.4</td>\n",
       "      <td>[0, 0, 0, 0, 1, 0, 0, 0, 0, 0, 0, 0, 0, 0, 0, ...</td>\n",
       "      <td>[0, 2, 0, 0, 0, 0, 1, 0, 2, 2, 0, 0, 2, 0, 0, ...</td>\n",
       "      <td>3</td>\n",
       "      <td>3.344885e-01</td>\n",
       "    </tr>\n",
       "    <tr>\n",
       "      <th>0</th>\n",
       "      <td>0.3</td>\n",
       "      <td>[0, 0, 0, 0, 0, 0, 0, 0, 0, 0, 0, 0, 0, 0, 0, ...</td>\n",
       "      <td>[0, 0, 0, 0, 0, 0, 0, 0, 0, 0, 0, 0, 0, 0, 0, ...</td>\n",
       "      <td>1</td>\n",
       "      <td>-4.440892e-16</td>\n",
       "    </tr>\n",
       "  </tbody>\n",
       "</table>\n",
       "</div>"
      ],
      "text/plain": [
       "    resolution                                   labels_attendees  \\\n",
       "8          1.1  [12, 3, 5, 9, 6, 8, 4, 4, 3, 11, 3, 6, 3, 6, 4...   \n",
       "7          1.0  [12, 3, 5, 9, 6, 8, 4, 4, 3, 11, 3, 6, 3, 6, 4...   \n",
       "9          1.2  [12, 3, 4, 8, 11, 7, 2, 2, 3, 9, 3, 11, 3, 11,...   \n",
       "6          0.9  [10, 1, 5, 6, 0, 8, 3, 3, 1, 1, 3, 0, 1, 0, 3,...   \n",
       "10         1.3  [2, 5, 3, 5, 10, 6, 2, 2, 7, 9, 16, 10, 7, 10,...   \n",
       "5          0.8  [5, 0, 1, 6, 5, 8, 0, 0, 0, 2, 0, 5, 0, 5, 1, ...   \n",
       "4          0.7  [4, 0, 3, 6, 1, 4, 0, 0, 0, 0, 0, 1, 0, 1, 3, ...   \n",
       "3          0.6  [1, 0, 2, 2, 1, 1, 0, 0, 0, 0, 0, 1, 0, 1, 0, ...   \n",
       "2          0.5  [1, 0, 0, 0, 1, 0, 0, 0, 0, 0, 0, 1, 0, 1, 0, ...   \n",
       "1          0.4  [0, 0, 0, 0, 1, 0, 0, 0, 0, 0, 0, 0, 0, 0, 0, ...   \n",
       "0          0.3  [0, 0, 0, 0, 0, 0, 0, 0, 0, 0, 0, 0, 0, 0, 0, ...   \n",
       "\n",
       "                                        labels_events  num_attendee_comms  \\\n",
       "8   [2, 0, 7, 11, 8, 3, 13, 3, 10, 0, 2, 14, 0, 12...                  16   \n",
       "7   [2, 0, 7, 11, 8, 3, 13, 3, 10, 0, 2, 14, 0, 12...                  16   \n",
       "9   [5, 0, 6, 9, 7, 3, 13, 3, 10, 0, 16, 15, 0, 12...                  18   \n",
       "6   [4, 2, 7, 1, 8, 3, 11, 1, 9, 2, 4, 6, 2, 10, 3...                  13   \n",
       "10  [4, 0, 8, 9, 6, 16, 13, 7, 11, 0, 17, 15, 0, 1...                  19   \n",
       "5   [2, 3, 0, 2, 8, 0, 4, 0, 1, 3, 0, 6, 3, 5, 0, ...                  10   \n",
       "4   [5, 2, 0, 0, 4, 0, 1, 0, 2, 2, 0, 6, 2, 4, 0, ...                   8   \n",
       "3   [4, 3, 0, 0, 0, 0, 1, 0, 3, 3, 0, 2, 3, 1, 0, ...                   6   \n",
       "2   [3, 2, 0, 0, 0, 0, 1, 0, 2, 2, 0, 0, 2, 1, 0, ...                   5   \n",
       "1   [0, 2, 0, 0, 0, 0, 1, 0, 2, 2, 0, 0, 2, 0, 0, ...                   3   \n",
       "0   [0, 0, 0, 0, 0, 0, 0, 0, 0, 0, 0, 0, 0, 0, 0, ...                   1   \n",
       "\n",
       "      modularity  \n",
       "8   4.929595e-01  \n",
       "7   4.928292e-01  \n",
       "9   4.917889e-01  \n",
       "6   4.916683e-01  \n",
       "10  4.904267e-01  \n",
       "5   4.844473e-01  \n",
       "4   4.758855e-01  \n",
       "3   4.543705e-01  \n",
       "2   4.080781e-01  \n",
       "1   3.344885e-01  \n",
       "0  -4.440892e-16  "
      ]
     },
     "execution_count": 11,
     "metadata": {},
     "output_type": "execute_result"
    }
   ],
   "source": [
    "community_detection_results_n2 = graph_communities.bipartite_louvain_multiresolutions(biadjacency_matrix=biadjacency_n2,\n",
    "                                                                                      resolutions=resolutions)\n",
    "community_detection_results_n2"
   ]
  },
  {
   "cell_type": "code",
   "execution_count": 20,
   "metadata": {},
   "outputs": [
    {
     "name": "stdout",
     "output_type": "stream",
     "text": [
      "<class 'pandas.core.frame.DataFrame'>\n",
      "Index: 11 entries, 8 to 0\n",
      "Data columns (total 5 columns):\n",
      " #   Column              Non-Null Count  Dtype  \n",
      "---  ------              --------------  -----  \n",
      " 0   resolution          11 non-null     float64\n",
      " 1   labels_attendees    11 non-null     object \n",
      " 2   labels_events       11 non-null     object \n",
      " 3   num_attendee_comms  11 non-null     int64  \n",
      " 4   modularity          11 non-null     float64\n",
      "dtypes: float64(2), int64(1), object(2)\n",
      "memory usage: 828.0+ bytes\n"
     ]
    }
   ],
   "source": [
    "community_detection_results_n2.info()"
   ]
  },
  {
   "cell_type": "markdown",
   "metadata": {},
   "source": [
    "### Adding the community labels to the original graph"
   ]
  },
  {
   "cell_type": "markdown",
   "metadata": {},
   "source": [
    "##### Selecting the desired community assignments"
   ]
  },
  {
   "cell_type": "markdown",
   "metadata": {},
   "source": [
    "In this case, rather than relying only in the modularity, the idea is to compare how much the community label assignments differ from the clustering results. For the sake of interpretability, a number of communities close to the number of clusters obtained was chosen."
   ]
  },
  {
   "cell_type": "code",
   "execution_count": 12,
   "metadata": {},
   "outputs": [],
   "source": [
    "results_n2 = community_detection_results_n2.loc[community_detection_results_n2['modularity'].idxmax()]\n",
    "\n",
    "# Extract the labels as numpy arrays \n",
    "# (where originally stored as pandas Series with one array inside it)\n",
    "labels_attendees_n2 = results_n2['labels_attendees']\n",
    "labels_events_n2 = results_n2['labels_events']"
   ]
  },
  {
   "cell_type": "markdown",
   "metadata": {},
   "source": [
    "#### Adding the labels back"
   ]
  },
  {
   "cell_type": "code",
   "execution_count": 13,
   "metadata": {},
   "outputs": [],
   "source": [
    "graph_n2 = graph_communities.add_labels_to_graph(graph=graph_n2,\n",
    "                                                 attendees_nodes=attendee_nodes_n2, event_nodes=event_nodes_n2,\n",
    "                                                 labels_attendees=labels_attendees_n2, labels_events=labels_events_n2)"
   ]
  },
  {
   "cell_type": "markdown",
   "metadata": {},
   "source": [
    "## Process for night 1"
   ]
  },
  {
   "cell_type": "markdown",
   "metadata": {},
   "source": [
    "Reading the graphs created above with `networkx`."
   ]
  },
  {
   "cell_type": "code",
   "execution_count": null,
   "metadata": {},
   "outputs": [],
   "source": [
    "graph_filename_n1 = os.path.join(GRAPH_FILES_PATH,'event_attendance_network_scores_n1.gexf')"
   ]
  },
  {
   "cell_type": "code",
   "execution_count": 15,
   "metadata": {},
   "outputs": [],
   "source": [
    "graph_n1 = nx.read_gexf(graph_filename_n1)"
   ]
  },
  {
   "cell_type": "markdown",
   "metadata": {},
   "source": [
    "Exracting the information of the graph to fromat it as a bipartite network and obtain the biadjacency matrix format suitable for `sknetwork`."
   ]
  },
  {
   "cell_type": "code",
   "execution_count": 16,
   "metadata": {},
   "outputs": [
    {
     "name": "stdout",
     "output_type": "stream",
     "text": [
      "Attendees node list lenght: 1580\n",
      "Attendees node list lenght: 24\n"
     ]
    }
   ],
   "source": [
    "# Extract the bottom (attendees) and top (events) nodes.\n",
    "# Nodes are sorted to guarantee that labels coincide in the end\n",
    "attendee_nodes_n1, event_nodes_n1 = bipartite.sets(graph_n1)\n",
    "attendee_nodes_n1 = sorted(attendee_nodes_n1)\n",
    "event_nodes_n1 = sorted(event_nodes_n1)\n",
    "\n",
    "print(f'Attendees node list lenght: {len(attendee_nodes_n1)}')\n",
    "print(f'Attendees node list lenght: {len(event_nodes_n1)}')"
   ]
  },
  {
   "cell_type": "code",
   "execution_count": 17,
   "metadata": {},
   "outputs": [
    {
     "name": "stdout",
     "output_type": "stream",
     "text": [
      "Biadjacency matrix shape: (1580, 24)\n"
     ]
    }
   ],
   "source": [
    "# Get the biadjacency matrix in the fromat required by sknetwork\n",
    "biadjacency_n1 = bipartite.biadjacency_matrix(graph_n1,\n",
    "                                              row_order=attendee_nodes_n1,\n",
    "                                              column_order=event_nodes_n1)\n",
    "biadjacency_n1 = sparse.csr_matrix(biadjacency_n1)\n",
    "print(f'Biadjacency matrix shape: {biadjacency_n1.shape}')"
   ]
  },
  {
   "cell_type": "markdown",
   "metadata": {},
   "source": [
    "### Community detection for different resolution values"
   ]
  },
  {
   "cell_type": "code",
   "execution_count": 18,
   "metadata": {},
   "outputs": [
    {
     "data": {
      "text/plain": [
       "[0.3, 0.4, 0.5, 0.6, 0.7, 0.8, 0.9, 1.0, 1.1, 1.2, 1.3]"
      ]
     },
     "execution_count": 18,
     "metadata": {},
     "output_type": "execute_result"
    }
   ],
   "source": [
    "resolutions = [round(x * 0.1, 1) for x in range(3,14)]\n",
    "resolutions"
   ]
  },
  {
   "cell_type": "code",
   "execution_count": 19,
   "metadata": {},
   "outputs": [
    {
     "data": {
      "application/vnd.microsoft.datawrangler.viewer.v0+json": {
       "columns": [
        {
         "name": "index",
         "rawType": "int64",
         "type": "integer"
        },
        {
         "name": "resolution",
         "rawType": "float64",
         "type": "float"
        },
        {
         "name": "labels_attendees",
         "rawType": "object",
         "type": "unknown"
        },
        {
         "name": "labels_events",
         "rawType": "object",
         "type": "unknown"
        },
        {
         "name": "num_attendee_comms",
         "rawType": "int64",
         "type": "integer"
        },
        {
         "name": "modularity",
         "rawType": "float64",
         "type": "float"
        }
       ],
       "conversionMethod": "pd.DataFrame",
       "ref": "45639188-36d5-40c6-b59a-563734425bee",
       "rows": [
        [
         "9",
         "1.2",
         "[4 6 5 ... 5 1 5]",
         "[ 6  0 13  8  3  0  4  3  4  5  4  2  0  1  1 11  2 10 10  9 12  5  7  7]",
         "14",
         "0.5217624610797935"
        ],
        [
         "7",
         "1.0",
         "[ 5  0  2 ... 10  3  2]",
         "[ 0  1 12  2  0  1  5  0  5  2  5  4  1  3  3  8  4  9  2  7 11 10  6  6]",
         "13",
         "0.5216614926817538"
        ],
        [
         "8",
         "1.1",
         "[ 4  5  1 ... 12  2  1]",
         "[ 5  0 14  1 11  0  4  8  4  1  4  3  0  2  2  9  3 10  1  7 13 12  6  6]",
         "15",
         "0.5214793342585529"
        ],
        [
         "6",
         "0.9",
         "[ 6  0  2 ... 11  3  2]",
         "[ 0  1 12  2  0  1  6  0  7  2  6  4  1  3  3  9  1 10  2  8  7 11  5  5]",
         "13",
         "0.5213922950056049"
        ],
        [
         "5",
         "0.8",
         "[6 0 2 ... 3 5 2]",
         "[ 0  1 10  2  0  1  6  0  7  2  6  3  1  5  5  8  1  9  2  4  7  3  4  4]",
         "11",
         "0.5196385965147823"
        ],
        [
         "10",
         "1.3",
         "[ 1  4  6 ... 14  0  6]",
         "[ 4  2 16  8 13  2  1  9  1  6  1  3  7  0  0 11  2 12  6 10 15 14  5  5]",
         "17",
         "0.5175758922468612"
        ],
        [
         "4",
         "0.7",
         "[3 0 1 ... 1 5 1]",
         "[0 2 9 1 0 2 3 0 3 1 3 6 2 5 5 3 2 7 1 4 8 1 4 4]",
         "10",
         "0.5156198951877782"
        ],
        [
         "3",
         "0.6",
         "[2 0 1 ... 1 3 1]",
         "[0 1 5 4 0 1 2 0 2 1 2 5 1 3 3 2 1 4 1 0 6 1 0 0]",
         "7",
         "0.4995063363380441"
        ],
        [
         "2",
         "0.5",
         "[3 1 0 ... 0 2 0]",
         "[1 0 5 1 1 0 3 1 3 0 3 0 0 2 2 4 0 1 0 0 3 0 4 4]",
         "6",
         "0.47306182180593553"
        ],
        [
         "1",
         "0.4",
         "[1 0 0 ... 0 0 0]",
         "[0 2 3 0 0 2 1 0 1 0 1 0 2 0 0 1 2 0 0 0 1 0 0 0]",
         "4",
         "0.3647909413986596"
        ],
        [
         "0",
         "0.3",
         "[0 0 0 ... 0 0 0]",
         "[0 0 1 0 0 0 0 0 0 0 0 0 0 0 0 0 0 0 0 0 1 0 0 0]",
         "2",
         "0.09151938271796667"
        ]
       ],
       "shape": {
        "columns": 5,
        "rows": 11
       }
      },
      "text/html": [
       "<div>\n",
       "<style scoped>\n",
       "    .dataframe tbody tr th:only-of-type {\n",
       "        vertical-align: middle;\n",
       "    }\n",
       "\n",
       "    .dataframe tbody tr th {\n",
       "        vertical-align: top;\n",
       "    }\n",
       "\n",
       "    .dataframe thead th {\n",
       "        text-align: right;\n",
       "    }\n",
       "</style>\n",
       "<table border=\"1\" class=\"dataframe\">\n",
       "  <thead>\n",
       "    <tr style=\"text-align: right;\">\n",
       "      <th></th>\n",
       "      <th>resolution</th>\n",
       "      <th>labels_attendees</th>\n",
       "      <th>labels_events</th>\n",
       "      <th>num_attendee_comms</th>\n",
       "      <th>modularity</th>\n",
       "    </tr>\n",
       "  </thead>\n",
       "  <tbody>\n",
       "    <tr>\n",
       "      <th>9</th>\n",
       "      <td>1.2</td>\n",
       "      <td>[4, 6, 5, 5, 1, 0, 2, 5, 1, 4, 7, 8, 2, 10, 4,...</td>\n",
       "      <td>[6, 0, 13, 8, 3, 0, 4, 3, 4, 5, 4, 2, 0, 1, 1,...</td>\n",
       "      <td>14</td>\n",
       "      <td>0.521762</td>\n",
       "    </tr>\n",
       "    <tr>\n",
       "      <th>7</th>\n",
       "      <td>1.0</td>\n",
       "      <td>[5, 0, 2, 10, 3, 1, 4, 2, 3, 5, 6, 2, 4, 9, 5,...</td>\n",
       "      <td>[0, 1, 12, 2, 0, 1, 5, 0, 5, 2, 5, 4, 1, 3, 3,...</td>\n",
       "      <td>13</td>\n",
       "      <td>0.521661</td>\n",
       "    </tr>\n",
       "    <tr>\n",
       "      <th>8</th>\n",
       "      <td>1.1</td>\n",
       "      <td>[4, 5, 1, 12, 2, 0, 3, 1, 2, 4, 6, 1, 3, 10, 4...</td>\n",
       "      <td>[5, 0, 14, 1, 11, 0, 4, 8, 4, 1, 4, 3, 0, 2, 2...</td>\n",
       "      <td>15</td>\n",
       "      <td>0.521479</td>\n",
       "    </tr>\n",
       "    <tr>\n",
       "      <th>6</th>\n",
       "      <td>0.9</td>\n",
       "      <td>[6, 0, 2, 11, 3, 1, 4, 2, 3, 6, 5, 2, 4, 10, 6...</td>\n",
       "      <td>[0, 1, 12, 2, 0, 1, 6, 0, 7, 2, 6, 4, 1, 3, 3,...</td>\n",
       "      <td>13</td>\n",
       "      <td>0.521392</td>\n",
       "    </tr>\n",
       "    <tr>\n",
       "      <th>5</th>\n",
       "      <td>0.8</td>\n",
       "      <td>[6, 0, 2, 3, 5, 1, 3, 2, 5, 6, 4, 2, 3, 9, 6, ...</td>\n",
       "      <td>[0, 1, 10, 2, 0, 1, 6, 0, 7, 2, 6, 3, 1, 5, 5,...</td>\n",
       "      <td>11</td>\n",
       "      <td>0.519639</td>\n",
       "    </tr>\n",
       "    <tr>\n",
       "      <th>10</th>\n",
       "      <td>1.3</td>\n",
       "      <td>[1, 4, 6, 14, 0, 2, 3, 6, 0, 1, 5, 8, 3, 12, 1...</td>\n",
       "      <td>[4, 2, 16, 8, 13, 2, 1, 9, 1, 6, 1, 3, 7, 0, 0...</td>\n",
       "      <td>17</td>\n",
       "      <td>0.517576</td>\n",
       "    </tr>\n",
       "    <tr>\n",
       "      <th>4</th>\n",
       "      <td>0.7</td>\n",
       "      <td>[3, 0, 1, 1, 5, 2, 6, 1, 5, 3, 4, 1, 6, 7, 3, ...</td>\n",
       "      <td>[0, 2, 9, 1, 0, 2, 3, 0, 3, 1, 3, 6, 2, 5, 5, ...</td>\n",
       "      <td>10</td>\n",
       "      <td>0.515620</td>\n",
       "    </tr>\n",
       "    <tr>\n",
       "      <th>3</th>\n",
       "      <td>0.6</td>\n",
       "      <td>[2, 0, 1, 1, 3, 1, 5, 1, 3, 2, 0, 4, 5, 4, 2, ...</td>\n",
       "      <td>[0, 1, 5, 4, 0, 1, 2, 0, 2, 1, 2, 5, 1, 3, 3, ...</td>\n",
       "      <td>7</td>\n",
       "      <td>0.499506</td>\n",
       "    </tr>\n",
       "    <tr>\n",
       "      <th>2</th>\n",
       "      <td>0.5</td>\n",
       "      <td>[3, 1, 0, 0, 2, 0, 0, 0, 2, 3, 4, 1, 0, 1, 3, ...</td>\n",
       "      <td>[1, 0, 5, 1, 1, 0, 3, 1, 3, 0, 3, 0, 0, 2, 2, ...</td>\n",
       "      <td>6</td>\n",
       "      <td>0.473062</td>\n",
       "    </tr>\n",
       "    <tr>\n",
       "      <th>1</th>\n",
       "      <td>0.4</td>\n",
       "      <td>[1, 0, 0, 0, 0, 2, 0, 0, 0, 1, 0, 0, 0, 0, 1, ...</td>\n",
       "      <td>[0, 2, 3, 0, 0, 2, 1, 0, 1, 0, 1, 0, 2, 0, 0, ...</td>\n",
       "      <td>4</td>\n",
       "      <td>0.364791</td>\n",
       "    </tr>\n",
       "    <tr>\n",
       "      <th>0</th>\n",
       "      <td>0.3</td>\n",
       "      <td>[0, 0, 0, 0, 0, 0, 0, 0, 0, 0, 0, 0, 0, 0, 0, ...</td>\n",
       "      <td>[0, 0, 1, 0, 0, 0, 0, 0, 0, 0, 0, 0, 0, 0, 0, ...</td>\n",
       "      <td>2</td>\n",
       "      <td>0.091519</td>\n",
       "    </tr>\n",
       "  </tbody>\n",
       "</table>\n",
       "</div>"
      ],
      "text/plain": [
       "    resolution                                   labels_attendees  \\\n",
       "9          1.2  [4, 6, 5, 5, 1, 0, 2, 5, 1, 4, 7, 8, 2, 10, 4,...   \n",
       "7          1.0  [5, 0, 2, 10, 3, 1, 4, 2, 3, 5, 6, 2, 4, 9, 5,...   \n",
       "8          1.1  [4, 5, 1, 12, 2, 0, 3, 1, 2, 4, 6, 1, 3, 10, 4...   \n",
       "6          0.9  [6, 0, 2, 11, 3, 1, 4, 2, 3, 6, 5, 2, 4, 10, 6...   \n",
       "5          0.8  [6, 0, 2, 3, 5, 1, 3, 2, 5, 6, 4, 2, 3, 9, 6, ...   \n",
       "10         1.3  [1, 4, 6, 14, 0, 2, 3, 6, 0, 1, 5, 8, 3, 12, 1...   \n",
       "4          0.7  [3, 0, 1, 1, 5, 2, 6, 1, 5, 3, 4, 1, 6, 7, 3, ...   \n",
       "3          0.6  [2, 0, 1, 1, 3, 1, 5, 1, 3, 2, 0, 4, 5, 4, 2, ...   \n",
       "2          0.5  [3, 1, 0, 0, 2, 0, 0, 0, 2, 3, 4, 1, 0, 1, 3, ...   \n",
       "1          0.4  [1, 0, 0, 0, 0, 2, 0, 0, 0, 1, 0, 0, 0, 0, 1, ...   \n",
       "0          0.3  [0, 0, 0, 0, 0, 0, 0, 0, 0, 0, 0, 0, 0, 0, 0, ...   \n",
       "\n",
       "                                        labels_events  num_attendee_comms  \\\n",
       "9   [6, 0, 13, 8, 3, 0, 4, 3, 4, 5, 4, 2, 0, 1, 1,...                  14   \n",
       "7   [0, 1, 12, 2, 0, 1, 5, 0, 5, 2, 5, 4, 1, 3, 3,...                  13   \n",
       "8   [5, 0, 14, 1, 11, 0, 4, 8, 4, 1, 4, 3, 0, 2, 2...                  15   \n",
       "6   [0, 1, 12, 2, 0, 1, 6, 0, 7, 2, 6, 4, 1, 3, 3,...                  13   \n",
       "5   [0, 1, 10, 2, 0, 1, 6, 0, 7, 2, 6, 3, 1, 5, 5,...                  11   \n",
       "10  [4, 2, 16, 8, 13, 2, 1, 9, 1, 6, 1, 3, 7, 0, 0...                  17   \n",
       "4   [0, 2, 9, 1, 0, 2, 3, 0, 3, 1, 3, 6, 2, 5, 5, ...                  10   \n",
       "3   [0, 1, 5, 4, 0, 1, 2, 0, 2, 1, 2, 5, 1, 3, 3, ...                   7   \n",
       "2   [1, 0, 5, 1, 1, 0, 3, 1, 3, 0, 3, 0, 0, 2, 2, ...                   6   \n",
       "1   [0, 2, 3, 0, 0, 2, 1, 0, 1, 0, 1, 0, 2, 0, 0, ...                   4   \n",
       "0   [0, 0, 1, 0, 0, 0, 0, 0, 0, 0, 0, 0, 0, 0, 0, ...                   2   \n",
       "\n",
       "    modularity  \n",
       "9     0.521762  \n",
       "7     0.521661  \n",
       "8     0.521479  \n",
       "6     0.521392  \n",
       "5     0.519639  \n",
       "10    0.517576  \n",
       "4     0.515620  \n",
       "3     0.499506  \n",
       "2     0.473062  \n",
       "1     0.364791  \n",
       "0     0.091519  "
      ]
     },
     "execution_count": 19,
     "metadata": {},
     "output_type": "execute_result"
    }
   ],
   "source": [
    "community_detection_results_n1 = graph_communities.bipartite_louvain_multiresolutions(biadjacency_matrix=biadjacency_n1,\n",
    "                                                                                      resolutions=resolutions)\n",
    "community_detection_results_n1"
   ]
  },
  {
   "cell_type": "markdown",
   "metadata": {},
   "source": [
    "### Adding the community labels to the original graph"
   ]
  },
  {
   "cell_type": "markdown",
   "metadata": {},
   "source": [
    "##### Selecting the desired community assignments"
   ]
  },
  {
   "cell_type": "markdown",
   "metadata": {},
   "source": [
    "In this case, rather than relying only in the modularity, the idea is to compare how much the community label assignments differ from the clustering results. For the sake of interpretability, a number of communities close to the number of clusters obtained was chosen."
   ]
  },
  {
   "cell_type": "code",
   "execution_count": 23,
   "metadata": {},
   "outputs": [],
   "source": [
    "results_n1 = community_detection_results_n1.loc[community_detection_results_n1['modularity'].idxmax()]\n",
    "\n",
    "# Extract the labels as numpy arrays \n",
    "# (where originally stored as pandas Series with one array inside it)\n",
    "labels_attendees_n1 = results_n1['labels_attendees']\n",
    "labels_events_n1 = results_n1['labels_events']"
   ]
  },
  {
   "cell_type": "markdown",
   "metadata": {},
   "source": [
    "#### Adding the labels back"
   ]
  },
  {
   "cell_type": "code",
   "execution_count": 24,
   "metadata": {},
   "outputs": [],
   "source": [
    "graph_n1 = graph_communities.add_labels_to_graph(graph=graph_n1,\n",
    "                                                 attendees_nodes=attendee_nodes_n1, event_nodes=event_nodes_n1,\n",
    "                                                 labels_attendees=labels_attendees_n1, labels_events=labels_events_n1)"
   ]
  },
  {
   "cell_type": "markdown",
   "metadata": {},
   "source": [
    "## Overwriting the graph files"
   ]
  },
  {
   "cell_type": "code",
   "execution_count": 25,
   "metadata": {},
   "outputs": [
    {
     "name": "stdout",
     "output_type": "stream",
     "text": [
      "Network saved to ..\\..\\Datasets\\Processed\\graph_files\\event_attendance_network_scores_n2.gexf\n"
     ]
    }
   ],
   "source": [
    "save_network_gexf(G=graph_n2,output_path=graph_filename_n2)"
   ]
  },
  {
   "cell_type": "code",
   "execution_count": 26,
   "metadata": {},
   "outputs": [
    {
     "name": "stdout",
     "output_type": "stream",
     "text": [
      "Network saved to ..\\..\\Datasets\\Processed\\graph_files\\event_attendance_network_scores_n1.gexf\n"
     ]
    }
   ],
   "source": [
    "save_network_gexf(G=graph_n1,output_path=graph_filename_n1)"
   ]
  }
 ],
 "metadata": {
  "kernelspec": {
   "display_name": "sknetwork_updated",
   "language": "python",
   "name": "python3"
  },
  "language_info": {
   "codemirror_mode": {
    "name": "ipython",
    "version": 3
   },
   "file_extension": ".py",
   "mimetype": "text/x-python",
   "name": "python",
   "nbconvert_exporter": "python",
   "pygments_lexer": "ipython3",
   "version": "3.9.19"
  }
 },
 "nbformat": 4,
 "nbformat_minor": 2
}
